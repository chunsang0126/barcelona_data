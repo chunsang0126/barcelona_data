{
 "cells": [
  {
   "cell_type": "markdown",
   "metadata": {},
   "source": [
    "# At Friday we will be asked to...\n",
    "\n",
    "* Present your insights and your arguments as easy for us as you can (with NO plots).\n",
    "* Give importance to the most important questions (or you think that are the most interesting).\n",
    "* Explain the questions you couldn't answer and why.\n",
    "* Explain why you chose the data you chose.\n",
    "* Explain how would you save the data: the structure, the data you would need to add, the data you would like to delete, etc.\n",
    "* Explain the learnings with the workflow: if you could have done it better, if you have needed to add any task, if it's been useful, etc."
   ]
  },
  {
   "cell_type": "markdown",
   "metadata": {},
   "source": [
    "# Questions to be ansewered\n",
    "## Demand-related\n",
    "* Does the altitude of the station affect demand?\n",
    "* Does the exitence of transport nodes (e.g. metro stations) affect demand\n",
    "* Are there \"deficient\" stations (i.e. demand > returns)\n",
    "* Which are the most demanded stations?\n",
    "* How does infrastructure affect demand (i.e. bike lanes)\n",
    "* What is the demand of e-bikes\n",
    "* Time evolution of the demand: Is it stationary? More demand during summer? During specific events (e.g. strikes)?\n",
    "\n",
    "## Usage\n",
    "* Does the payment of 30+ minutes affect usage?\n",
    "* Which are the trip mean times/length\n",
    "* Which are the main traffic flows"
   ]
  },
  {
   "cell_type": "markdown",
   "metadata": {},
   "source": [
    "# Databases needed\n",
    "* Given datasets:\n",
    "\n",
    "    \"Transport.csv\"\n",
    "    \n",
    "    \"Bus stops\"\n",
    "\n",
    "\n",
    "* Open Data BCN\n",
    "    \n",
    "    \"Uso del servicio Bicing de la ciudad de Barcelona\"\n",
    "    \n",
    "    \"Carriles bici de la ciudad de Barcelona\"\n",
    "    \n",
    "    \"Servicios relacionados con bicicletas en la ciudad de Barcelona\"\n",
    "    \n",
    "    \"Estaciones de Bicing de la ciudad de Barcelona (mecánicas y eléctricas\"\n",
    "    \n",
    "    \n",
    "* Other datasets:\n",
    "\n",
    "    \"https://www.tmb.cat/es/sobre-tmb/herramientas-para-desarrolladores/datos-gtfs\""
   ]
  }
 ],
 "metadata": {
  "kernelspec": {
   "display_name": "Python 3",
   "language": "python",
   "name": "python3"
  },
  "language_info": {
   "codemirror_mode": {
    "name": "ipython",
    "version": 3
   },
   "file_extension": ".py",
   "mimetype": "text/x-python",
   "name": "python",
   "nbconvert_exporter": "python",
   "pygments_lexer": "ipython3",
   "version": "3.7.2"
  }
 },
 "nbformat": 4,
 "nbformat_minor": 2
}
