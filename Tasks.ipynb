{
 "cells": [
  {
   "cell_type": "markdown",
   "metadata": {},
   "source": [
    "# Tasks\n",
    "1- Study the DBs:\n",
    "* Given datasets:\n",
    "\n",
    "    \"Transport.csv\" - CHUN\n",
    "    \n",
    "    \"Bus_stops.csv\" - CHUN\n",
    "\n",
    "\n",
    "* Open Data BCN\n",
    "    \n",
    "    \"Uso del servicio Bicing de la ciudad de Barcelona\" - PAU\n",
    "    \n",
    "    \"Carriles bici de la ciudad de Barcelona\" - ADRIA\n",
    "    \n",
    "    \"Servicios relacionados con bicicletas en la ciudad de Barcelona\" - ADRIA\n",
    "    \n",
    "    \"Estaciones de Bicing de la ciudad de Barcelona (mecánicas y eléctricas)\" - PAU\n",
    "    \n",
    "2- Define DBs structure - All\n",
    "\n",
    "3- Draft queries to answer the questions - All\n",
    "\n",
    "4- Draw conclusions - All\n",
    "\n",
    "5- Prepare presentation? - All"
   ]
  }
 ],
 "metadata": {
  "kernelspec": {
   "display_name": "Python 3",
   "language": "python",
   "name": "python3"
  },
  "language_info": {
   "codemirror_mode": {
    "name": "ipython",
    "version": 3
   },
   "file_extension": ".py",
   "mimetype": "text/x-python",
   "name": "python",
   "nbconvert_exporter": "python",
   "pygments_lexer": "ipython3",
   "version": "3.7.2"
  }
 },
 "nbformat": 4,
 "nbformat_minor": 2
}
